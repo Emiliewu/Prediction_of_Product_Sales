{
  "nbformat": 4,
  "nbformat_minor": 0,
  "metadata": {
    "colab": {
      "provenance": [],
      "authorship_tag": "ABX9TyOvok/8iYYmqrlaP30eNjxq",
      "include_colab_link": true
    },
    "kernelspec": {
      "name": "python3",
      "display_name": "Python 3"
    },
    "language_info": {
      "name": "python"
    }
  },
  "cells": [
    {
      "cell_type": "markdown",
      "metadata": {
        "id": "view-in-github",
        "colab_type": "text"
      },
      "source": [
        "<a href=\"https://colab.research.google.com/github/Emiliewu/Prediction_of_Product_Sales/blob/main/Prediction_of_Product_Sales.ipynb\" target=\"_parent\"><img src=\"https://colab.research.google.com/assets/colab-badge.svg\" alt=\"Open In Colab\"/></a>"
      ]
    },
    {
      "cell_type": "markdown",
      "source": [
        "#Project Title: Prediction of Product Sales\n",
        "Author: Emilie Wu\n",
        "\n",
        "##Project Overview\n",
        "##Load and Inspect Data\n",
        "##Clean Data\n",
        "##Exploratory Data Analysis\n",
        "##Explanatory Data Analysis"
      ],
      "metadata": {
        "id": "Hzn7jzPy_hSj"
      }
    },
    {
      "cell_type": "markdown",
      "source": [],
      "metadata": {
        "id": "600Cd3He_gtr"
      }
    },
    {
      "cell_type": "code",
      "source": [],
      "metadata": {
        "id": "E_lv1Rpp_qcZ"
      },
      "execution_count": null,
      "outputs": []
    }
  ]
}